{
 "cells": [
  {
   "cell_type": "code",
   "execution_count": 1,
   "metadata": {},
   "outputs": [],
   "source": [
    "import bs4\n",
    "import urllib.request as url"
   ]
  },
  {
   "cell_type": "code",
   "execution_count": 2,
   "metadata": {},
   "outputs": [
    {
     "data": {
      "text/plain": [
       "<http.client.HTTPResponse at 0x1a1196f4348>"
      ]
     },
     "execution_count": 2,
     "metadata": {},
     "output_type": "execute_result"
    }
   ],
   "source": [
    "url.urlopen('https://www.flipkart.com/search?q=tv&otracker=search&otracker1=search&marketplace=FLIPKART&as-show=on&as=off')"
   ]
  },
  {
   "cell_type": "code",
   "execution_count": 4,
   "metadata": {},
   "outputs": [],
   "source": [
    "response = url.urlopen('https://www.flipkart.com/search?q=tv&otracker=search&otracker1=search&marketplace=FLIPKART&as-show=on&as=off')"
   ]
  },
  {
   "cell_type": "code",
   "execution_count": 5,
   "metadata": {},
   "outputs": [],
   "source": [
    "page = bs4.BeautifulSoup(response)"
   ]
  },
  {
   "cell_type": "code",
   "execution_count": 6,
   "metadata": {},
   "outputs": [
    {
     "data": {
      "text/plain": [
       "<div class=\"_3wU53n\">Mi 4A PRO 80 cm (32) HD Ready LED Smart Android TV With Google Data Saver</div>"
      ]
     },
     "execution_count": 6,
     "metadata": {},
     "output_type": "execute_result"
    }
   ],
   "source": [
    "page.find('div', class_='_3wU53n')"
   ]
  },
  {
   "cell_type": "code",
   "execution_count": 7,
   "metadata": {},
   "outputs": [
    {
     "data": {
      "text/plain": [
       "'Mi 4A PRO 80 cm (32) HD Ready LED Smart Android TV With Google Data Saver'"
      ]
     },
     "execution_count": 7,
     "metadata": {},
     "output_type": "execute_result"
    }
   ],
   "source": [
    "title = page.find('div', class_='_3wU53n')\n",
    "title.text"
   ]
  },
  {
   "cell_type": "code",
   "execution_count": 9,
   "metadata": {},
   "outputs": [
    {
     "data": {
      "text/plain": [
       "'₹12,499'"
      ]
     },
     "execution_count": 9,
     "metadata": {},
     "output_type": "execute_result"
    }
   ],
   "source": [
    "price = page.find('div', class_='_1vC4OE _2rQ-NK')\n",
    "price.text"
   ]
  },
  {
   "cell_type": "code",
   "execution_count": 10,
   "metadata": {},
   "outputs": [],
   "source": [
    "titleList = page.find_all('div', class_='_3wU53n')\n",
    "priceList = page.find_all('div', class_='_1vC4OE _2rQ-NK')"
   ]
  },
  {
   "cell_type": "code",
   "execution_count": 11,
   "metadata": {},
   "outputs": [
    {
     "data": {
      "text/plain": [
       "24"
      ]
     },
     "execution_count": 11,
     "metadata": {},
     "output_type": "execute_result"
    }
   ],
   "source": [
    "len(titleList)"
   ]
  },
  {
   "cell_type": "code",
   "execution_count": 12,
   "metadata": {},
   "outputs": [
    {
     "data": {
      "text/plain": [
       "24"
      ]
     },
     "execution_count": 12,
     "metadata": {},
     "output_type": "execute_result"
    }
   ],
   "source": [
    "len(priceList)"
   ]
  },
  {
   "cell_type": "code",
   "execution_count": 15,
   "metadata": {},
   "outputs": [
    {
     "name": "stdout",
     "output_type": "stream",
     "text": [
      "Mi 4A PRO 80 cm (32) HD Ready LED Smart Android TV With Google Data Saver\n",
      "₹12,499\n",
      "====================\n",
      "Vu Premium 108cm (43 inch) Full HD LED Smart Android TV\n",
      "₹20,999\n",
      "====================\n",
      "Samsung 80cm (32 inch) HD Ready LED Smart TV  with Voice Search\n",
      "₹15,999\n",
      "====================\n",
      "Samsung 80cm (32 inch) HD Ready LED Smart TV\n",
      "₹14,499\n",
      "====================\n",
      "Vu Premium 80cm (32 inch) HD Ready LED Smart Android TV\n",
      "₹12,499\n",
      "====================\n",
      "Thomson B9 Pro 102cm (40 inch) Full HD LED Smart TV\n",
      "₹15,999\n",
      "====================\n",
      "LG All-in-One 80cm (32 inch) HD Ready LED Smart TV\n",
      "₹14,999\n",
      "====================\n",
      "Mi 4A Pro 108 cm (43) Full HD LED Smart Android TV With Google Data Saver\n",
      "₹21,999\n",
      "====================\n",
      "Micromax 81cm (32 inch) HD Ready LED TV  with IPS Panel\n",
      "₹9,499\n",
      "====================\n",
      "Kodak 80cm (32 inch) HD Ready LED Smart TV\n",
      "₹11,499\n",
      "====================\n",
      "Thomson R9 60cm (24 inch) HD Ready LED TV\n",
      "₹6,999\n",
      "====================\n",
      "LG All-in-One 108cm (43 inch) Full HD LED Smart TV\n",
      "₹28,999\n",
      "====================\n",
      "Thomson 108cm (43 inch) Ultra HD (4K) LED Smart Android TV\n",
      "₹25,999\n",
      "====================\n",
      "Realme 108cm (43 inch) Full HD LED Smart Android TV\n",
      "₹21,999\n",
      "====================\n",
      "Realme 80cm (32 inch) HD Ready LED Smart Android TV\n",
      "₹12,999\n",
      "====================\n",
      "Mi 4A 100 cm (40) Full HD LED Smart Android TV With Google Data Saver\n",
      "₹17,999\n",
      "====================\n",
      "Motorola 109cm (43 inch) Ultra HD (4K) LED Smart Android TV  with Wireless Gamepad\n",
      "₹29,999\n",
      "====================\n",
      "Nokia 139cm (55 inch) Ultra HD (4K) LED Smart Android TV  with Sound by JBL\n",
      "₹41,999\n",
      "====================\n",
      "Vu 80cm (32 inch) HD Ready LED TV  with FM Radio\n",
      "₹8,499\n",
      "====================\n",
      "Motorola 80.5cm (32 inch) HD Ready LED Smart Android TV  with Wireless Gamepad\n",
      "₹13,999\n",
      "====================\n",
      "Mi 4X 125.7 cm (50) Ultra HD (4K) LED Smart Android TV\n",
      "₹29,999\n",
      "====================\n",
      "Kodak 60cm (24 inch) HD Ready LED TV\n",
      "₹6,499\n",
      "====================\n",
      "Motorola 127cm (50 inch) Ultra HD (4K) LED Smart Android TV  with Wireless Gamepad\n",
      "₹33,999\n",
      "====================\n",
      "Motorola 139cm (55 inch) Ultra HD (4K) LED Smart Android TV  with Wireless Gamepad\n",
      "₹39,999\n",
      "====================\n"
     ]
    }
   ],
   "source": [
    "for i in range(len(titleList)):\n",
    "    print(titleList[i].text)\n",
    "    print(priceList[i].text)\n",
    "    print('=' * 20)"
   ]
  },
  {
   "cell_type": "code",
   "execution_count": null,
   "metadata": {},
   "outputs": [],
   "source": []
  }
 ],
 "metadata": {
  "kernelspec": {
   "display_name": "Python 3",
   "language": "python",
   "name": "python3"
  },
  "language_info": {
   "codemirror_mode": {
    "name": "ipython",
    "version": 3
   },
   "file_extension": ".py",
   "mimetype": "text/x-python",
   "name": "python",
   "nbconvert_exporter": "python",
   "pygments_lexer": "ipython3",
   "version": "3.7.4"
  }
 },
 "nbformat": 4,
 "nbformat_minor": 4
}
